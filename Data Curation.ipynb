{
 "cells": [
  {
   "cell_type": "code",
   "execution_count": null,
   "id": "2a44b668",
   "metadata": {},
   "outputs": [],
   "source": [
    "!npm cache clean -f\n",
    "!npm install -g n\n",
    "!n stable\n"
   ]
  },
  {
   "cell_type": "code",
   "execution_count": null,
   "id": "648d13fb",
   "metadata": {},
   "outputs": [],
   "source": [
    "!python -m pip install soundfile\n",
    "!npm install -g --unsafe-perm edge-impulse-cli"
   ]
  },
  {
   "cell_type": "code",
   "execution_count": null,
   "id": "a67c6d37",
   "metadata": {},
   "outputs": [],
   "source": [
    "BASE_DIR = \"/content\"\n",
    "OUT_DIR = \"keywords_curated\"\n",
    "GOOGLE_DATASET_FILENAME = \"speech_commands_v0.02.tar.gz\"\n",
    "GOOGLE_DATASET_URL = \"http://download.tensorflow.org/data/\" + GOOGLE_DATASET_FILENAME\n",
    "GOOGLE_DATASET_DIR = \"google_speech_commands\"\n",
    "CUSTOM_KEYWORDS_FILENAME = \"main.zip\"\n",
    "CUSTOM_KEYWORDS_URL = \"https://github.com/ShawnHymel/custom-speech-commands-dataset/archive/\" + CUSTOM_KEYWORDS_FILENAME\n",
    "CUSTOM_KEYWORDS_DIR = \"custom_keywords\"\n",
    "CUSTOM_KEYWORDS_REPO_NAME = \"custom-speech-commands-dataset-main\"\n",
    "CURATION_SCRIPT = \"dataset-curation.py\"\n",
    "CURATION_SCRIPT_URL = \"https://raw.githubusercontent.com/ShawnHymel/ei-keyword-spotting/master/\" + CURATION_SCRIPT\n",
    "UTILS_SCRIPT_URL = \"https://raw.githubusercontent.com/ShawnHymel/ei-keyword-spotting/master/utils.py\"\n",
    "NUM_SAMPLES = 1500    # Target number of samples to mix and send to Edge Impulse\n",
    "WORD_VOL = 1.0        # Relative volume of word in output sample\n",
    "BG_VOL = 0.1          # Relative volume of noise in output sample\n",
    "SAMPLE_TIME = 1.0     # Time (seconds) of output sample\n",
    "SAMPLE_RATE = 16000   # Sample rate (Hz) of output sample\n",
    "BIT_DEPTH = \"PCM_16\"  # Options: [PCM_16, PCM_24, PCM_32, PCM_U8, FLOAT, DOUBLE]\n",
    "BG_DIR = \"_background_noise_\"\n",
    "TEST_RATIO = 0.2      # 20% reserved for test set, rest is for training\n",
    "EI_INGEST_TEST_URL = \"https://ingestion.edgeimpulse.com/api/test/data\"\n",
    "EI_INGEST_TRAIN_URL = \"https://ingestion.edgeimpulse.com/api/training/data\""
   ]
  },
  {
   "cell_type": "code",
   "execution_count": null,
   "id": "a1dd06d1",
   "metadata": {},
   "outputs": [],
   "source": [
    "!cd {BASE_DIR}\n",
    "!wget {GOOGLE_DATASET_URL}\n",
    "!mkdir {GOOGLE_DATASET_DIR}\n",
    "!echo \"Extracting...\"\n",
    "!tar xfz {GOOGLE_DATASET_FILENAME} -C {GOOGLE_DATASET_DIR}"
   ]
  },
  {
   "cell_type": "code",
   "execution_count": null,
   "id": "5c2a2f97",
   "metadata": {},
   "outputs": [],
   "source": [
    "CUSTOM_DATASET_PATH = \"\"\n",
    "\n",
    "# Edge Impulse > your_project > Dashboard > Keys\n",
    "EI_API_KEY = \" \" \n",
    "\n",
    "# Comma separated words. Must match directory names (that contain samples).\n",
    "# Recommended: use 2 keywords for microcontroller demo\n",
    "TARGETS = \"go, stop\""
   ]
  },
  {
   "cell_type": "code",
   "execution_count": null,
   "id": "4d9309f4",
   "metadata": {},
   "outputs": [],
   "source": [
    "!wget {CURATION_SCRIPT_URL}\n",
    "!wget {UTILS_SCRIPT_URL}"
   ]
  },
  {
   "cell_type": "code",
   "execution_count": null,
   "id": "1b6b73ff",
   "metadata": {},
   "outputs": [],
   "source": [
    "!cd {BASE_DIR}\n",
    "\n",
    "# Imports\n",
    "import os\n",
    "import random\n",
    "\n",
    "# Seed with system time\n",
    "random.seed()\n",
    "\n",
    "# Go through each category in our curated dataset\n",
    "for dir in os.listdir(OUT_DIR):\n",
    "  \n",
    "  # Create list of files for one category\n",
    "  paths = []\n",
    "  for filename in os.listdir(os.path.join(OUT_DIR, dir)):\n",
    "    paths.append(os.path.join(OUT_DIR, dir, filename))\n",
    "\n",
    "  # Shuffle and divide into test and training sets\n",
    "  random.shuffle(paths)\n",
    "  num_test_samples = int(TEST_RATIO * len(paths))\n",
    "  test_paths = paths[:num_test_samples]\n",
    "  train_paths = paths[num_test_samples:]\n",
    "\n",
    "  # Create arugments list (as a string) for CLI call\n",
    "  test_paths = ['\"' + s + '\"' for s in test_paths]\n",
    "  test_paths = ' '.join(test_paths)\n",
    "  train_paths = ['\"' + s + '\"' for s in train_paths]\n",
    "  train_paths = ' '.join(train_paths)"
   ]
  },
  {
   "cell_type": "code",
   "execution_count": null,
   "id": "e9daf563",
   "metadata": {},
   "outputs": [],
   "source": [
    "# Send test files to Edge Impulse\n",
    "  !edge-impulse-uploader \\\n",
    "    --category testing \\\n",
    "    --label {dir} \\\n",
    "    --api-key {EI_API_KEY} \\\n",
    "    --silent \\\n",
    "    {test_paths}\n",
    "\n",
    "  # # Send training files to Edge Impulse\n",
    "  !edge-impulse-uploader \\\n",
    "    --category training \\\n",
    "    --label {dir} \\\n",
    "    --api-key {EI_API_KEY} \\\n",
    "    --silent \\\n",
    "    {train_paths}"
   ]
  }
 ],
 "metadata": {
  "kernelspec": {
   "display_name": "Python 3",
   "language": "python",
   "name": "python3"
  },
  "language_info": {
   "codemirror_mode": {
    "name": "ipython",
    "version": 3
   },
   "file_extension": ".py",
   "mimetype": "text/x-python",
   "name": "python",
   "nbconvert_exporter": "python",
   "pygments_lexer": "ipython3",
   "version": "3.8.8"
  }
 },
 "nbformat": 4,
 "nbformat_minor": 5
}
